{
 "cells": [
  {
   "cell_type": "code",
   "execution_count": 1,
   "id": "4a403867",
   "metadata": {},
   "outputs": [
    {
     "name": "stdout",
     "output_type": "stream",
     "text": [
      "choose among the following: ['rock', 'paper', 'scissor']\n",
      "player choice:rock\n",
      "system choice: {'paper'}\n",
      "your score:0,system score:1\n",
      "choose among the following: ['rock', 'paper', 'scissor']\n",
      "player choice:scissor\n",
      "system choice: {'rock'}\n",
      "your score:0,system score:2\n",
      "choose among the following: ['rock', 'paper', 'scissor']\n",
      "player choice:rock\n",
      "system choice: {'scissor'}\n",
      "your score:1,system score:2\n",
      "choose among the following: ['rock', 'paper', 'scissor']\n",
      "player choice:scissor\n",
      "system choice: {'scissor'}\n",
      "------Draw------\n",
      "your score:1,system score:2\n",
      "choose among the following: ['rock', 'paper', 'scissor']\n",
      "player choice:rock\n",
      "system choice: {'paper'}\n",
      "your score:1,system score:3\n",
      "computer won the match: 3\n"
     ]
    }
   ],
   "source": [
    "from random import randint\n",
    "choice = [\"rock\",\"paper\",\"scissor\"]\n",
    "p_score=c_score=0\n",
    "limit=3\n",
    "while p_score!=limit and c_score!=limit:\n",
    "    print(f\"choose among the following:\",choice)\n",
    "    my_ch=input(\"player choice:\").lower()\n",
    "    if my_ch not in choice:\n",
    "        print(\"invalid input\")\n",
    "        continue\n",
    "    sys_ch=choice[int(randint(0,2))]\n",
    "    print(f\"system choice:\",{sys_ch})\n",
    "    if my_ch==sys_ch:\n",
    "        print(\"------Draw------\")\n",
    "    elif my_ch==\"rock\" and sys_ch==\"scissor\":\n",
    "        p_score +=1\n",
    "    elif my_ch==\"paper\" and sys_ch==\"rock\":\n",
    "        p_score +=1\n",
    "    elif my_ch==\"scissor\" and sys_ch==\"paper\":\n",
    "        p_score +=1\n",
    "    else:\n",
    "        c_score+=1\n",
    "    print(f'your score:{p_score},system score:{c_score}')\n",
    "if p_score>c_score:\n",
    "    print(\"user won the match:\",p_score)\n",
    "else:\n",
    "    print(\"computer won the match:\",c_score)\n",
    "        "
   ]
  },
  {
   "cell_type": "code",
   "execution_count": null,
   "id": "b4cf2eb0",
   "metadata": {},
   "outputs": [],
   "source": []
  }
 ],
 "metadata": {
  "kernelspec": {
   "display_name": "Python 3 (ipykernel)",
   "language": "python",
   "name": "python3"
  },
  "language_info": {
   "codemirror_mode": {
    "name": "ipython",
    "version": 3
   },
   "file_extension": ".py",
   "mimetype": "text/x-python",
   "name": "python",
   "nbconvert_exporter": "python",
   "pygments_lexer": "ipython3",
   "version": "3.10.9"
  }
 },
 "nbformat": 4,
 "nbformat_minor": 5
}
